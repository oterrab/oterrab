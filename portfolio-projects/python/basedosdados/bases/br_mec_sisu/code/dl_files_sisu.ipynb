{
  "nbformat": 4,
  "nbformat_minor": 0,
  "metadata": {
    "colab": {
      "provenance": [],
      "collapsed_sections": [],
      "include_colab_link": true
    },
    "kernelspec": {
      "name": "python3",
      "display_name": "Python 3"
    },
    "language_info": {
      "name": "python"
    }
  },
  "cells": [
    {
      "cell_type": "markdown",
      "metadata": {
        "id": "view-in-github",
        "colab_type": "text"
      },
      "source": [
        "<a href=\"https://colab.research.google.com/github/oterrab/oterrab/blob/main/portfolio-projects/python/basedosdados/bases/br_mec_sisu/code/dl_files_sisu.ipynb\" target=\"_parent\"><img src=\"https://colab.research.google.com/assets/colab-badge.svg\" alt=\"Open In Colab\"/></a>"
      ]
    },
    {
      "cell_type": "code",
      "execution_count": 1,
      "metadata": {
        "id": "Co-OY1HVI-Iv",
        "colab": {
          "base_uri": "https://localhost:8080/"
        },
        "outputId": "54f1817c-9a66-4b85-eba8-a755b2ec9b13"
      },
      "outputs": [
        {
          "output_type": "stream",
          "name": "stdout",
          "text": [
            "Looking in indexes: https://pypi.org/simple, https://us-python.pkg.dev/colab-wheels/public/simple/\n",
            "Collecting wget\n",
            "  Downloading wget-3.2.zip (10 kB)\n",
            "Building wheels for collected packages: wget\n",
            "  Building wheel for wget (setup.py) ... \u001b[?25l\u001b[?25hdone\n",
            "  Created wheel for wget: filename=wget-3.2-py3-none-any.whl size=9675 sha256=9f1d3c43b6c6d977f2ad8ee1b54b09e67e026d0c53fc1872429b75e5ed96bac5\n",
            "  Stored in directory: /root/.cache/pip/wheels/a1/b6/7c/0e63e34eb06634181c63adacca38b79ff8f35c37e3c13e3c02\n",
            "Successfully built wget\n",
            "Installing collected packages: wget\n",
            "Successfully installed wget-3.2\n"
          ]
        }
      ],
      "source": [
        "!pip install wget\n",
        "\n",
        "import wget\n",
        "import os\n",
        "import sys\n",
        "import pandas as pd"
      ]
    },
    {
      "cell_type": "markdown",
      "source": [
        "## Downloading files to Google Colab"
      ],
      "metadata": {
        "id": "-i06KcFFx3DN"
      }
    },
    {
      "cell_type": "code",
      "source": [
        "from google.colab import drive\n",
        "drive.mount('/content/gdrive', force_remount=True)\n"
      ],
      "metadata": {
        "colab": {
          "base_uri": "https://localhost:8080/"
        },
        "id": "RsJRDYuLJF85",
        "outputId": "60447666-bd1d-4e2f-de0d-ab8de969e276"
      },
      "execution_count": 2,
      "outputs": [
        {
          "output_type": "stream",
          "name": "stdout",
          "text": [
            "Mounted at /content/gdrive\n"
          ]
        }
      ]
    },
    {
      "cell_type": "code",
      "source": [
        "path_regular = \"/content/gdrive/MyDrive/bases/br_mec_sisu/regular/input/\"\n",
        "path_espera = \"/content/gdrive/MyDrive/bases/br_mec_sisu/espera/input/\"\n",
        "\n",
        "anos = {\"2017\", \"2018\", \"2019\", \"2020\", \"2021\"}\n",
        "semestres = {\"1\", \"2\"}\n",
        "\n",
        "class color:\n",
        "   PURPLE = '\\033[95m'\n",
        "   CYAN = '\\033[96m'\n",
        "   DARKCYAN = '\\033[36m'\n",
        "   BLUE = '\\033[94m'\n",
        "   GREEN = '\\033[92m'\n",
        "   YELLOW = '\\033[93m'\n",
        "   RED = '\\033[91m'\n",
        "   BOLD = '\\033[1m'\n",
        "   UNDERLINE = '\\033[4m'\n",
        "   END = '\\033[0m'"
      ],
      "metadata": {
        "id": "SoKLiLMY-QK1"
      },
      "execution_count": 3,
      "outputs": []
    },
    {
      "cell_type": "markdown",
      "source": [
        "bar_progress method which is invoked automatically from wget:"
      ],
      "metadata": {
        "id": "CsFEGD9r9xDT"
      }
    },
    {
      "cell_type": "code",
      "source": [
        "def bar_progress(current, total, width=80):\n",
        "  progress_message = \"Downloading: %d%% [%d / %d] bytes\" % (current / total * 100, current, total)\n",
        "  # Don't use print() as it will print in new line every time.\n",
        "  sys.stdout.write(\"\\r\" + progress_message)\n",
        "  sys.stdout.flush()"
      ],
      "metadata": {
        "id": "L3oZ4ttx9tzx"
      },
      "execution_count": 4,
      "outputs": []
    },
    {
      "cell_type": "markdown",
      "source": [
        "### Regular"
      ],
      "metadata": {
        "id": "Sg8_3F6_yRJO"
      }
    },
    {
      "cell_type": "code",
      "source": [
        "for ano in anos:\n",
        "  for semestre in semestres:\n",
        "    print(\"------------------\")\n",
        "    filename = \"ListagemChamadaRegular_{}-{}.csv\".format(ano, semestre)\n",
        "    filepath = path_regular + filename\n",
        "    url = \"https://dadosabertos.mec.gov.br/images/conteudo/sisu/{}/ListagemChamadaRegular_{}-{}.csv\".format(ano, ano, semestre)\n",
        "    print(color.BOLD + 'Year {}'.format(ano) + color.END +' - Trying to download '.format(ano) + color.BOLD + filename + color.END)\n",
        "    try:\n",
        "      print('URL: ' + url)\n",
        "      if os.path.isfile(filepath):\n",
        "        print(color.BOLD + '\\n' + filename + ' already exists.' + color.END)\n",
        "      else:\n",
        "        print(\"\\nTrying to download...\")\n",
        "        wget.download(url, out=str(path_espera), bar=bar_progress)\n",
        "        print(color.BOLD + '\\n'+ filename + ' downloaded.' + color.END)\n",
        "    except Exception as exc:\n",
        "      print(\"\\nDownload failed: \"+ color.BOLD + f\"{str(exc)}\" + color.END)"
      ],
      "metadata": {
        "id": "k_kafJzGFCaa",
        "colab": {
          "base_uri": "https://localhost:8080/"
        },
        "outputId": "485e7ca6-a1a2-4920-e15a-42b53e745bb9"
      },
      "execution_count": null,
      "outputs": [
        {
          "metadata": {
            "tags": null
          },
          "name": "stdout",
          "output_type": "stream",
          "text": [
            "Para o ano de 2018 tentando baixar ListagemChamadaRegular_2018-1\n",
            "https://dadosabertos.mec.gov.br/images/conteudo/sisu/2018/ListagemChamadaRegular_2018-1.csv\n",
            "wget failed: HTTP Error 404: Not Found\n",
            "Para o ano de 2018 tentando baixar ListagemChamadaRegular_2018-2\n",
            "https://dadosabertos.mec.gov.br/images/conteudo/sisu/2018/ListagemChamadaRegular_2018-2.csv\n",
            "ListagemChamadaRegular_2018-2.csv baixado\n",
            "Para o ano de 2019 tentando baixar ListagemChamadaRegular_2019-1\n",
            "https://dadosabertos.mec.gov.br/images/conteudo/sisu/2019/ListagemChamadaRegular_2019-1.csv\n",
            "ListagemChamadaRegular_2019-1.csv baixado\n",
            "Para o ano de 2019 tentando baixar ListagemChamadaRegular_2019-2\n",
            "https://dadosabertos.mec.gov.br/images/conteudo/sisu/2019/ListagemChamadaRegular_2019-2.csv\n",
            "ListagemChamadaRegular_2019-2.csv baixado\n",
            "Para o ano de 2017 tentando baixar ListagemChamadaRegular_2017-1\n",
            "https://dadosabertos.mec.gov.br/images/conteudo/sisu/2017/ListagemChamadaRegular_2017-1.csv\n",
            "ListagemChamadaRegular_2017-1.csv baixado\n",
            "Para o ano de 2017 tentando baixar ListagemChamadaRegular_2017-2\n",
            "https://dadosabertos.mec.gov.br/images/conteudo/sisu/2017/ListagemChamadaRegular_2017-2.csv\n",
            "ListagemChamadaRegular_2017-2.csv baixado\n",
            "Para o ano de 2020 tentando baixar ListagemChamadaRegular_2020-1\n",
            "https://dadosabertos.mec.gov.br/images/conteudo/sisu/2020/ListagemChamadaRegular_2020-1.csv\n",
            "ListagemChamadaRegular_2020-1.csv baixado\n",
            "Para o ano de 2020 tentando baixar ListagemChamadaRegular_2020-2\n",
            "https://dadosabertos.mec.gov.br/images/conteudo/sisu/2020/ListagemChamadaRegular_2020-2.csv\n",
            "ListagemChamadaRegular_2020-2.csv baixado\n",
            "Para o ano de 2021 tentando baixar ListagemChamadaRegular_2021-1\n",
            "https://dadosabertos.mec.gov.br/images/conteudo/sisu/2021/ListagemChamadaRegular_2021-1.csv\n"
          ]
        }
      ]
    },
    {
      "cell_type": "markdown",
      "source": [
        "### Espera"
      ],
      "metadata": {
        "id": "zQK87rs6yT9a"
      }
    },
    {
      "cell_type": "code",
      "source": [
        "for ano in anos:\n",
        "  for semestre in semestres:\n",
        "    print(\"------------------\")\n",
        "    filename = \"ListagemListaEspera_{}-{}.csv\".format(ano, semestre)\n",
        "    filepath = path_espera + filename\n",
        "    url = \"https://dadosabertos.mec.gov.br/images/conteudo/sisu/{}/ListagemListaEspera_{}-{}.csv\".format(ano, ano, semestre)\n",
        "    print(color.BOLD + 'Year {}'.format(ano) + color.END +' - Trying to download '.format(ano) + color.BOLD + filename + color.END)\n",
        "    try:\n",
        "      print('URL: ' + url)\n",
        "      if os.path.isfile(filepath):\n",
        "        print(color.BOLD + '\\n' + filename + ' already exists.' + color.END)\n",
        "      else:\n",
        "        print(\"\\nTrying to download...\")\n",
        "        wget.download(url, out=str(path_espera), bar=bar_progress)\n",
        "        print(color.BOLD + '\\n'+ filename + ' downloaded.' + color.END)\n",
        "    except Exception as exc:\n",
        "      print(\"\\nDownload failed: \"+ color.BOLD + f\"{str(exc)}\" + color.END)"
      ],
      "metadata": {
        "colab": {
          "base_uri": "https://localhost:8080/"
        },
        "id": "xWi4DnCbyVAE",
        "outputId": "a8863f6e-9a6d-4c62-bb0d-eb6bae23d71b"
      },
      "execution_count": 5,
      "outputs": [
        {
          "output_type": "stream",
          "name": "stdout",
          "text": [
            "------------------\n",
            "\u001b[1mYear 2021\u001b[0m - Trying to download \u001b[1mListagemListaEspera_2021-2.csv\u001b[0m\n",
            "URL: https://dadosabertos.mec.gov.br/images/conteudo/sisu/2021/ListagemListaEspera_2021-2.csv\n",
            "\n",
            "Trying to download...\n",
            "\n",
            "Download failed: \u001b[1mHTTP Error 404: Not Found\u001b[0m\n",
            "------------------\n",
            "\u001b[1mYear 2021\u001b[0m - Trying to download \u001b[1mListagemListaEspera_2021-1.csv\u001b[0m\n",
            "URL: https://dadosabertos.mec.gov.br/images/conteudo/sisu/2021/ListagemListaEspera_2021-1.csv\n",
            "\n",
            "Trying to download...\n",
            "Downloading: 100% [-1 / -1] bytes\u001b[1m\n",
            "ListagemListaEspera_2021-1.csv downloaded.\u001b[0m\n",
            "------------------\n",
            "\u001b[1mYear 2018\u001b[0m - Trying to download \u001b[1mListagemListaEspera_2018-2.csv\u001b[0m\n",
            "URL: https://dadosabertos.mec.gov.br/images/conteudo/sisu/2018/ListagemListaEspera_2018-2.csv\n",
            "\n",
            "Trying to download...\n",
            "Downloading: 100% [-1 / -1] bytes\u001b[1m\n",
            "ListagemListaEspera_2018-2.csv downloaded.\u001b[0m\n",
            "------------------\n",
            "\u001b[1mYear 2018\u001b[0m - Trying to download \u001b[1mListagemListaEspera_2018-1.csv\u001b[0m\n",
            "URL: https://dadosabertos.mec.gov.br/images/conteudo/sisu/2018/ListagemListaEspera_2018-1.csv\n",
            "\n",
            "Trying to download...\n",
            "\n",
            "Download failed: \u001b[1mHTTP Error 404: Not Found\u001b[0m\n",
            "------------------\n",
            "\u001b[1mYear 2020\u001b[0m - Trying to download \u001b[1mListagemListaEspera_2020-2.csv\u001b[0m\n",
            "URL: https://dadosabertos.mec.gov.br/images/conteudo/sisu/2020/ListagemListaEspera_2020-2.csv\n",
            "\n",
            "Trying to download...\n",
            "Downloading: 100% [-1 / -1] bytes\u001b[1m\n",
            "ListagemListaEspera_2020-2.csv downloaded.\u001b[0m\n",
            "------------------\n",
            "\u001b[1mYear 2020\u001b[0m - Trying to download \u001b[1mListagemListaEspera_2020-1.csv\u001b[0m\n",
            "URL: https://dadosabertos.mec.gov.br/images/conteudo/sisu/2020/ListagemListaEspera_2020-1.csv\n",
            "\u001b[1m\n",
            "ListagemListaEspera_2020-1.csv already exists.\u001b[0m\n",
            "------------------\n",
            "\u001b[1mYear 2019\u001b[0m - Trying to download \u001b[1mListagemListaEspera_2019-2.csv\u001b[0m\n",
            "URL: https://dadosabertos.mec.gov.br/images/conteudo/sisu/2019/ListagemListaEspera_2019-2.csv\n",
            "\n",
            "Trying to download...\n",
            "Downloading: 100% [-1 / -1] bytes\u001b[1m\n",
            "ListagemListaEspera_2019-2.csv downloaded.\u001b[0m\n",
            "------------------\n",
            "\u001b[1mYear 2019\u001b[0m - Trying to download \u001b[1mListagemListaEspera_2019-1.csv\u001b[0m\n",
            "URL: https://dadosabertos.mec.gov.br/images/conteudo/sisu/2019/ListagemListaEspera_2019-1.csv\n",
            "\n",
            "Trying to download...\n",
            "Downloading: 100% [-1 / -1] bytes\u001b[1m\n",
            "ListagemListaEspera_2019-1.csv downloaded.\u001b[0m\n",
            "------------------\n",
            "\u001b[1mYear 2017\u001b[0m - Trying to download \u001b[1mListagemListaEspera_2017-2.csv\u001b[0m\n",
            "URL: https://dadosabertos.mec.gov.br/images/conteudo/sisu/2017/ListagemListaEspera_2017-2.csv\n",
            "\n",
            "Trying to download...\n",
            "Downloading: 100% [-1 / -1] bytes\u001b[1m\n",
            "ListagemListaEspera_2017-2.csv downloaded.\u001b[0m\n",
            "------------------\n",
            "\u001b[1mYear 2017\u001b[0m - Trying to download \u001b[1mListagemListaEspera_2017-1.csv\u001b[0m\n",
            "URL: https://dadosabertos.mec.gov.br/images/conteudo/sisu/2017/ListagemListaEspera_2017-1.csv\n",
            "\n",
            "Trying to download...\n",
            "Downloading: 100% [-1 / -1] bytes\u001b[1m\n",
            "ListagemListaEspera_2017-1.csv downloaded.\u001b[0m\n"
          ]
        }
      ]
    }
  ]
}